{
 "cells": [
  {
   "attachments": {},
   "cell_type": "markdown",
   "metadata": {},
   "source": [
    "Here I try to recreate all the function in the R files (estimator, filter and simulator) in the Python language to check if I have really understood the topic."
   ]
  },
  {
   "cell_type": "code",
   "execution_count": 13,
   "metadata": {},
   "outputs": [],
   "source": [
    "import math\n",
    "import numpy as np"
   ]
  },
  {
   "cell_type": "code",
   "execution_count": 11,
   "metadata": {},
   "outputs": [],
   "source": [
    "def martingale_diff(y, mu_t, varsigma, nu):\n",
    "    u_t = ((1 / (1 + (y - mu_t)^2/(nu*varsigma)) * (y - mu_t)))\n",
    "\n",
    "    return u_t"
   ]
  },
  {
   "cell_type": "code",
   "execution_count": 12,
   "metadata": {},
   "outputs": [],
   "source": [
    "def uSTD_uDCS_t(y, mu_t, varsigma, nu, log):\n",
    "    ulpdf = (lgamma((nu + 1) / 2) - lgamma(nu / 2) - (1/2) * log(varsigma) -\n",
    "              (1/2)  * log(pi * nu) - ((nu + 1) / 2) * log(1 + (y - mu_t)^2 / (nu*varsigma) ))\n",
    "    if (log != TRUE):\n",
    "        ulpdf = math.exp(ulpdf)\n",
    "        \n",
    "    return ulpdf"
   ]
  },
  {
   "cell_type": "code",
   "execution_count": 17,
   "metadata": {},
   "outputs": [],
   "source": [
    "def uDCS_t_model_filter (y, theta):\n",
    "    \n",
    "    T = len(y)\n",
    "\n",
    "    dloglik = np.zeros(n)\n",
    "    loglik = float()\n",
    "\n",
    "    omega = theta[1]\n",
    "    phi = theta[2]\n",
    "    k = theta[3]\n",
    "    varsigma = theta[4]\n",
    "    nu = theta[5]\n",
    "\n",
    "    mu_t = np.full(T+1, np.nan)\n",
    "    u_t = np.full(T, np.nan)\n",
    "\n",
    "    mu_t[0] = omega\n",
    "\n",
    "    dloglik[0] = uSTD_uDCS_t(y[0], mu_t[0], varsigma=varsigma, nu=nu, log=TRUE)\n",
    "\n",
    "    for t in range (1, T +1):\n",
    "        u_t[t-1] = martingale_diff(y[t-1], mu[t-1], varsigma, nu)\n",
    "        mu_t[t] = omega + phi * (mu_t[t-1]- omega) + k * u_t[t-1]\n",
    "\n",
    "        if t < T+1:\n",
    "            dloglik[t] = uSTD_uDCS_t(y[t], mu_t=mu_t[t], varsigma= varsigma, nu = nu, log= TRUE)\n",
    "            loglik = loglik + dloglik[t]\n",
    "\n",
    "    mu_t = np.array([np.nan] * (T+1))\n",
    "    u_t = np.array([np.nan] * T)\n",
    "\n",
    "    out = {'Dynamic Location': mu_t,\n",
    "           'Innovation': u_t,\n",
    "           'Log_Densities_i': dloglik,\n",
    "           'Log_Likelihood' : loglik\n",
    "    }\n",
    "\n",
    "    return out\n",
    "    \n"
   ]
  },
  {
   "cell_type": "code",
   "execution_count": 20,
   "metadata": {},
   "outputs": [],
   "source": [
    "def uSTDT_rnd (n, mu, varsigma, nu):\n",
    "    z = np.random.standard_t(n, df = nu)\n",
    "    y = float()\n",
    "    for i in range(1, n):\n",
    "        y[i] = mu + z[i]* math.sqrt(varsigma)\n",
    "    \n",
    "    return y\n",
    "    "
   ]
  },
  {
   "cell_type": "code",
   "execution_count": 21,
   "metadata": {},
   "outputs": [],
   "source": [
    "def uDCS_t_model_simulator (T, omega, phi, k, varsigma, nu):\n",
    "\n",
    "    y = np.full(T, np.nan)\n",
    "    mu_t = np.array(T, np.nan)\n",
    "    u_t = np.array(T-1, np.nan)\n",
    "\n",
    "    mu_t[0] = omega\n",
    "\n",
    "    y[0] = uSTDT_rnd(1, mu_t[1], varsigma, nu)\n",
    "\n",
    "    for t in range(1, T):\n",
    "\n",
    "        u_t[t-1] = martingale_diff(y[t-1], mu_t[t-1], varsigma, nu)\n",
    "        mu_t[t] = omega + phi * (mu_t[t-1] - omega) + k * u_t[t-1]\n",
    "        y[t] = uSTDT_rnd(1, mu_t[t], varsigma, nu)\n",
    "\n",
    "    out = {\n",
    "        'y_t_gen': np.array(y),\n",
    "        'Dynamic_Location': np.array(mu_t),\n",
    "        'Innovation_u_t': np.array(u_t)\n",
    "    }\n",
    "\n",
    "    return out"
   ]
  },
  {
   "cell_type": "code",
   "execution_count": null,
   "metadata": {},
   "outputs": [],
   "source": [
    "def uDCS_t_model_estimator (data, param):\n",
    "\n",
    "    T = len(data)\n",
    "\n",
    "    omega = param[1]\n",
    "    phi = param[2]\n",
    "    k = param[3]\n",
    "\n",
    "    varsigma = param[4]\n",
    "    nu = param[5]\n",
    "\n",
    "    theta_st = [omega, phi, k, varsigma, nu]\n",
    "\n",
    "    lower =[-Inf, -0.999, -2, 1e-05, 2.099]\n",
    "    upper =[ Inf,  0.999,  2, Inf, 300]"
   ]
  }
 ],
 "metadata": {
  "kernelspec": {
   "display_name": "Python 3",
   "language": "python",
   "name": "python3"
  },
  "language_info": {
   "codemirror_mode": {
    "name": "ipython",
    "version": 3
   },
   "file_extension": ".py",
   "mimetype": "text/x-python",
   "name": "python",
   "nbconvert_exporter": "python",
   "pygments_lexer": "ipython3",
   "version": "3.11.2"
  },
  "orig_nbformat": 4
 },
 "nbformat": 4,
 "nbformat_minor": 2
}
